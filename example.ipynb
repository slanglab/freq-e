{
 "cells": [
  {
   "cell_type": "markdown",
   "metadata": {},
   "source": [
    "# Freq-E example usage \n",
    "Starting with a collection of text documents. This notebook walks through: \n",
    "\n",
    "1. Pre-processing text to be in a format suitable for input into freq-e\n",
    "\n",
    "2. How to run freq-e to obtain prevalence estimates on the test set. "
   ]
  },
  {
   "cell_type": "code",
   "execution_count": 1,
   "metadata": {},
   "outputs": [],
   "source": [
    "from __future__ import division, print_function\n",
    "import numpy as np \n",
    "import json\n",
    "from sklearn.feature_extraction import DictVectorizer"
   ]
  },
  {
   "cell_type": "code",
   "execution_count": 2,
   "metadata": {},
   "outputs": [],
   "source": [
    "import estimate; reload(estimate)\n",
    "%load_ext autoreload\n",
    "%autoreload 2"
   ]
  },
  {
   "cell_type": "markdown",
   "metadata": {},
   "source": [
    "## Pre-processing \n",
    "We will use the Yelp academic dataset as an example. The text representation will be unigram counts (e.g. \"bag-of-words\") which have already been processed and loaded. \n",
    "\n",
    "X : numpy.ndarray\n",
    "\n",
    "y : numpy.ndarray "
   ]
  },
  {
   "cell_type": "code",
   "execution_count": 3,
   "metadata": {},
   "outputs": [],
   "source": [
    "def load_x_y_from_json(file_name): \n",
    "    count_dicts = []\n",
    "    y = []\n",
    "    for line in open(file_name): \n",
    "        dd = json.loads(line)\n",
    "        counts = dd['counts'].copy()\n",
    "        cc = dd['class']\n",
    "        count_dicts.append(counts); y.append(cc)\n",
    "    return count_dicts, np.array(y)  "
   ]
  },
  {
   "cell_type": "code",
   "execution_count": 4,
   "metadata": {},
   "outputs": [
    {
     "name": "stdout",
     "output_type": "stream",
     "text": [
      "<type 'numpy.ndarray'> <type 'numpy.ndarray'>\n",
      "(2000, 14791) (2000,)\n"
     ]
    }
   ],
   "source": [
    "#get train data \n",
    "dv = DictVectorizer()\n",
    "train_count_dicts, y_train = load_x_y_from_json('example_data/train_yelp.json')\n",
    "X_train = dv.fit_transform(train_count_dicts).toarray()\n",
    "dv_vocab = np.array(dv.feature_names_)\n",
    "print(type(X_train), type(y_train))\n",
    "print(X_train.shape, y_train.shape)\n",
    "assert X_train.shape[0] == y_train.shape[0]"
   ]
  },
  {
   "cell_type": "code",
   "execution_count": 5,
   "metadata": {},
   "outputs": [
    {
     "name": "stdout",
     "output_type": "stream",
     "text": [
      "<type 'numpy.ndarray'> <type 'numpy.ndarray'>\n",
      "(2000, 14791) (2000,)\n"
     ]
    }
   ],
   "source": [
    "# get test data (1 test group) \n",
    "# NOTE: the test group is the \"inference\" group in a real-word setting\n",
    "# here we have labels on the test set, but in a real-word setting there \n",
    "# would most likely not be labels on the test set\n",
    "test_count_dicts, y_test = load_x_y_from_json('example_data/test_yelp.json')\n",
    "X_test = dv.transform(test_count_dicts).toarray()\n",
    "print(type(X_test), type(y_test))\n",
    "print(X_test.shape, y_test.shape)"
   ]
  },
  {
   "cell_type": "markdown",
   "metadata": {},
   "source": [
    "## Freq-e usage"
   ]
  },
  {
   "cell_type": "markdown",
   "metadata": {},
   "source": [
    "### Training \n",
    "- In order to select the best discriminitive classifier, we will do a grid search over the L1 penalties for LogReg, evaluating on cross-entropy over 10 cross-validation folds "
   ]
  },
  {
   "cell_type": "code",
   "execution_count": 6,
   "metadata": {},
   "outputs": [
    {
     "name": "stdout",
     "output_type": "stream",
     "text": [
      "TRAINING DISCRIMINATIVE MODEL\n"
     ]
    },
    {
     "name": "stderr",
     "output_type": "stream",
     "text": [
      "/usr/local/lib/python2.7/site-packages/sklearn/linear_model/logistic.py:433: FutureWarning: Default solver will be changed to 'lbfgs' in 0.22. Specify a solver to silence this warning.\n",
      "  FutureWarning)\n"
     ]
    },
    {
     "name": "stdout",
     "output_type": "stream",
     "text": [
      "LogisticRegression(C=0.0009765625, class_weight=None, dual=False,\n",
      "          fit_intercept=True, intercept_scaling=1, max_iter=100,\n",
      "          multi_class='warn', n_jobs=None, penalty='l1', random_state=None,\n",
      "          solver='warn', tol=0.0001, verbose=0, warm_start=False)\n",
      "Training mean accuracy= 0.737\n",
      "0.0009765625\n"
     ]
    }
   ],
   "source": [
    "freq_e = estimate.FreqEstimate(conf_level=0.95)\n",
    "trained_model = freq_e.fit(X_train, y_train)\n",
    "print(trained_model.C)"
   ]
  },
  {
   "cell_type": "markdown",
   "metadata": {},
   "source": [
    "### Inference\n",
    "Returns (1) a point estimate of the class frequency/proportions and (2) a confidence interval for the point estimate. "
   ]
  },
  {
   "cell_type": "code",
   "execution_count": 7,
   "metadata": {},
   "outputs": [
    {
     "name": "stdout",
     "output_type": "stream",
     "text": [
      "TRUE\n",
      "0.769\n"
     ]
    }
   ],
   "source": [
    "# here we can know the true proportions because we have access to the test labels \n",
    "print('TRUE')\n",
    "print(np.mean(y_test))"
   ]
  },
  {
   "cell_type": "code",
   "execution_count": 8,
   "metadata": {},
   "outputs": [
    {
     "name": "stdout",
     "output_type": "stream",
     "text": [
      "PCC\n",
      "0.584842286869\n"
     ]
    }
   ],
   "source": [
    "#naive method = PCC (probabilistic classify and count)\n",
    "print('PCC')\n",
    "print(np.mean(trained_model.predict_proba(X_test)[:, 1]))"
   ]
  },
  {
   "cell_type": "code",
   "execution_count": 9,
   "metadata": {},
   "outputs": [
    {
     "name": "stdout",
     "output_type": "stream",
     "text": [
      "[[ 0.28205652  0.71794348]\n",
      " [ 0.48702675  0.51297325]\n",
      " [ 0.38529299  0.61470701]\n",
      " ..., \n",
      " [ 0.44828101  0.55171899]\n",
      " [ 0.42276627  0.57723373]\n",
      " [ 0.30354483  0.69645517]]\n"
     ]
    }
   ],
   "source": [
    "print(trained_model.predict_proba(X_test))"
   ]
  },
  {
   "cell_type": "code",
   "execution_count": 18,
   "metadata": {},
   "outputs": [
    {
     "name": "stdout",
     "output_type": "stream",
     "text": [
      "FREQ-E ESTIMATED\n",
      "{'conf_interval': (0.001, 0.0030000000000000001), 'point': 0.001}\n"
     ]
    }
   ],
   "source": [
    "print('FREQ-E ESTIMATED')\n",
    "out = freq_e.predict_freq(trained_model, X_train, y_train, X_test)\n",
    "print(out)"
   ]
  },
  {
   "cell_type": "markdown",
   "metadata": {},
   "source": [
    "### debugging"
   ]
  },
  {
   "cell_type": "code",
   "execution_count": 11,
   "metadata": {},
   "outputs": [],
   "source": [
    "from estimate import *"
   ]
  },
  {
   "cell_type": "code",
   "execution_count": 12,
   "metadata": {},
   "outputs": [],
   "source": [
    "import matplotlib\n",
    "import matplotlib.pyplot as plt\n",
    "%matplotlib inline"
   ]
  },
  {
   "cell_type": "markdown",
   "metadata": {},
   "source": [
    "\n",
    "Double-checking that model.decision function is what I want\n",
    "\n",
    "From: https://github.com/scikit-learn/scikit-learn/blob/7389dba/sklearn/linear_model/base.py#L264\n",
    "\n",
    "scores = safe_sparse_dot(X, self.coef_.T,\n",
    "                                 dense_output=True) + self.intercept_\n",
    "                                 \n",
    "so decision function should just be WX + b \n"
   ]
  },
  {
   "cell_type": "code",
   "execution_count": 13,
   "metadata": {},
   "outputs": [
    {
     "name": "stdout",
     "output_type": "stream",
     "text": [
      "0.7655\n",
      "[ 0.93428339  0.05190463  0.46714169 ...,  0.20761853  0.3114278\n",
      "  0.83047412]\n",
      "2000\n"
     ]
    }
   ],
   "source": [
    "train_prior = np.mean(y_train)\n",
    "print(train_prior)\n",
    "log_odds =trained_model.decision_function(X_test)\n",
    "print(log_odds)\n",
    "print(len(log_odds))\n",
    "log_post_probs = mll_curve_stable(log_odds, train_prior)\n",
    "log_prior = get_beta_prior()\n",
    "log_post_probs = np.add(log_post_probs, log_prior)"
   ]
  },
  {
   "cell_type": "code",
   "execution_count": 14,
   "metadata": {},
   "outputs": [
    {
     "name": "stdout",
     "output_type": "stream",
     "text": [
      "[ -1.05434628e+00  -2.10890092e+00  -3.16425245e+00  -4.22038358e+00\n",
      "  -5.27728869e+00  -6.33496514e+00  -7.39341142e+00  -8.45262652e+00\n",
      "  -9.51260977e+00  -1.05733606e+01  -1.16348787e+01  -1.26971636e+01\n",
      "  -1.37602150e+01  -1.48240329e+01  -1.58886169e+01  -1.69539668e+01\n",
      "  -1.80200827e+01  -1.90869642e+01  -2.01546115e+01  -2.12230243e+01\n",
      "  -2.22922027e+01  -2.33621466e+01  -2.44328560e+01  -2.55043309e+01\n",
      "  -2.65765714e+01  -2.76495773e+01  -2.87233489e+01  -2.97978862e+01\n",
      "  -3.08731892e+01  -3.19492580e+01  -3.30260927e+01  -3.41036935e+01\n",
      "  -3.51820605e+01  -3.62611937e+01  -3.73410934e+01  -3.84217598e+01\n",
      "  -3.95031929e+01  -4.05853929e+01  -4.16683601e+01  -4.27520947e+01\n",
      "  -4.38365969e+01  -4.49218668e+01  -4.60079048e+01  -4.70947110e+01\n",
      "  -4.81822858e+01  -4.92706294e+01  -5.03597420e+01  -5.14496240e+01\n",
      "  -5.25402756e+01  -5.36316971e+01  -5.47238889e+01  -5.58168513e+01\n",
      "  -5.69105845e+01  -5.80050889e+01  -5.91003649e+01  -6.01964128e+01\n",
      "  -6.12932330e+01  -6.23908257e+01  -6.34891915e+01  -6.45883307e+01\n",
      "  -6.56882437e+01  -6.67889308e+01  -6.78903925e+01  -6.89926291e+01\n",
      "  -7.00956412e+01  -7.11994291e+01  -7.23039933e+01  -7.34093342e+01\n",
      "  -7.45154522e+01  -7.56223478e+01  -7.67300215e+01  -7.78384737e+01\n",
      "  -7.89477049e+01  -8.00577156e+01  -8.11685062e+01  -8.22800773e+01\n",
      "  -8.33924294e+01  -8.45055629e+01  -8.56194784e+01  -8.67341764e+01\n",
      "  -8.78496574e+01  -8.89659219e+01  -9.00829705e+01  -9.12008037e+01\n",
      "  -9.23194221e+01  -9.34388262e+01  -9.45590166e+01  -9.56799938e+01\n",
      "  -9.68017584e+01  -9.79243110e+01  -9.90476522e+01  -1.00171782e+02\n",
      "  -1.01296702e+02  -1.02422413e+02  -1.03548914e+02  -1.04676207e+02\n",
      "  -1.05804292e+02  -1.06933170e+02  -1.08062841e+02  -1.09193306e+02\n",
      "  -1.10324566e+02  -1.11456621e+02  -1.12589472e+02  -1.13723120e+02\n",
      "  -1.14857565e+02  -1.15992807e+02  -1.17128849e+02  -1.18265689e+02\n",
      "  -1.19403329e+02  -1.20541770e+02  -1.21681012e+02  -1.22821057e+02\n",
      "  -1.23961903e+02  -1.25103553e+02  -1.26246007e+02  -1.27389266e+02\n",
      "  -1.28533330e+02  -1.29678200e+02  -1.30823878e+02  -1.31970362e+02\n",
      "  -1.33117655e+02  -1.34265757e+02  -1.35414669e+02  -1.36564391e+02\n",
      "  -1.37714925e+02  -1.38866270e+02  -1.40018428e+02  -1.41171400e+02\n",
      "  -1.42325186e+02  -1.43479787e+02  -1.44635203e+02  -1.45791437e+02\n",
      "  -1.46948487e+02  -1.48106356e+02  -1.49265043e+02  -1.50424550e+02\n",
      "  -1.51584878e+02  -1.52746027e+02  -1.53907998e+02  -1.55070792e+02\n",
      "  -1.56234409e+02  -1.57398851e+02  -1.58564119e+02  -1.59730212e+02\n",
      "  -1.60897132e+02  -1.62064881e+02  -1.63233457e+02  -1.64402863e+02\n",
      "  -1.65573100e+02  -1.66744167e+02  -1.67916067e+02  -1.69088799e+02\n",
      "  -1.70262365e+02  -1.71436765e+02  -1.72612001e+02  -1.73788073e+02\n",
      "  -1.74964983e+02  -1.76142730e+02  -1.77321316e+02  -1.78500742e+02\n",
      "  -1.79681008e+02  -1.80862116e+02  -1.82044066e+02  -1.83226860e+02\n",
      "  -1.84410498e+02  -1.85594981e+02  -1.86780310e+02  -1.87966485e+02\n",
      "  -1.89153509e+02  -1.90341381e+02  -1.91530103e+02  -1.92719676e+02\n",
      "  -1.93910100e+02  -1.95101377e+02  -1.96293507e+02  -1.97486491e+02\n",
      "  -1.98680330e+02  -1.99875026e+02  -2.01070579e+02  -2.02266990e+02\n",
      "  -2.03464260e+02  -2.04662390e+02  -2.05861380e+02  -2.07061233e+02\n",
      "  -2.08261949e+02  -2.09463529e+02  -2.10665973e+02  -2.11869283e+02\n",
      "  -2.13073460e+02  -2.14278505e+02  -2.15484419e+02  -2.16691202e+02\n",
      "  -2.17898856e+02  -2.19107382e+02  -2.20316781e+02  -2.21527054e+02\n",
      "  -2.22738201e+02  -2.23950224e+02  -2.25163124e+02  -2.26376902e+02\n",
      "  -2.27591559e+02  -2.28807095e+02  -2.30023513e+02  -2.31240812e+02\n",
      "  -2.32458994e+02  -2.33678061e+02  -2.34898013e+02  -2.36118850e+02\n",
      "  -2.37340575e+02  -2.38563188e+02  -2.39786691e+02  -2.41011083e+02\n",
      "  -2.42236367e+02  -2.43462544e+02  -2.44689614e+02  -2.45917579e+02\n",
      "  -2.47146440e+02  -2.48376197e+02  -2.49606852e+02  -2.50838407e+02\n",
      "  -2.52070861e+02  -2.53304216e+02  -2.54538474e+02  -2.55773635e+02\n",
      "  -2.57009701e+02  -2.58246672e+02  -2.59484549e+02  -2.60723335e+02\n",
      "  -2.61963029e+02  -2.63203634e+02  -2.64445150e+02  -2.65687578e+02\n",
      "  -2.66930919e+02  -2.68175175e+02  -2.69420347e+02  -2.70666435e+02\n",
      "  -2.71913442e+02  -2.73161367e+02  -2.74410213e+02  -2.75659981e+02\n",
      "  -2.76910671e+02  -2.78162285e+02  -2.79414824e+02  -2.80668288e+02\n",
      "  -2.81922681e+02  -2.83178001e+02  -2.84434252e+02  -2.85691433e+02\n",
      "  -2.86949546e+02  -2.88208592e+02  -2.89468573e+02  -2.90729489e+02\n",
      "  -2.91991343e+02  -2.93254134e+02  -2.94517864e+02  -2.95782535e+02\n",
      "  -2.97048148e+02  -2.98314703e+02  -2.99582202e+02  -3.00850647e+02\n",
      "  -3.02120039e+02  -3.03390378e+02  -3.04661666e+02  -3.05933904e+02\n",
      "  -3.07207094e+02  -3.08481237e+02  -3.09756333e+02  -3.11032385e+02\n",
      "  -3.12309393e+02  -3.13587360e+02  -3.14866285e+02  -3.16146170e+02\n",
      "  -3.17427017e+02  -3.18708827e+02  -3.19991601e+02  -3.21275340e+02\n",
      "  -3.22560046e+02  -3.23845720e+02  -3.25132364e+02  -3.26419978e+02\n",
      "  -3.27708564e+02  -3.28998122e+02  -3.30288656e+02  -3.31580165e+02\n",
      "  -3.32872651e+02  -3.34166116e+02  -3.35460561e+02  -3.36755986e+02\n",
      "  -3.38052394e+02  -3.39349786e+02  -3.40648163e+02  -3.41947526e+02\n",
      "  -3.43247877e+02  -3.44549217e+02  -3.45851548e+02  -3.47154870e+02\n",
      "  -3.48459185e+02  -3.49764495e+02  -3.51070801e+02  -3.52378104e+02\n",
      "  -3.53686406e+02  -3.54995708e+02  -3.56306011e+02  -3.57617317e+02\n",
      "  -3.58929627e+02  -3.60242943e+02  -3.61557266e+02  -3.62872597e+02\n",
      "  -3.64188938e+02  -3.65506290e+02  -3.66824654e+02  -3.68144033e+02\n",
      "  -3.69464427e+02  -3.70785837e+02  -3.72108266e+02  -3.73431715e+02\n",
      "  -3.74756185e+02  -3.76081677e+02  -3.77408194e+02  -3.78735735e+02\n",
      "  -3.80064304e+02  -3.81393901e+02  -3.82724528e+02  -3.84056186e+02\n",
      "  -3.85388877e+02  -3.86722602e+02  -3.88057363e+02  -3.89393160e+02\n",
      "  -3.90729997e+02  -3.92067874e+02  -3.93406792e+02  -3.94746753e+02\n",
      "  -3.96087759e+02  -3.97429811e+02  -3.98772910e+02  -4.00117059e+02\n",
      "  -4.01462258e+02  -4.02808510e+02  -4.04155815e+02  -4.05504175e+02\n",
      "  -4.06853592e+02  -4.08204067e+02  -4.09555602e+02  -4.10908198e+02\n",
      "  -4.12261857e+02  -4.13616581e+02  -4.14972370e+02  -4.16329227e+02\n",
      "  -4.17687153e+02  -4.19046150e+02  -4.20406219e+02  -4.21767362e+02\n",
      "  -4.23129580e+02  -4.24492875e+02  -4.25857248e+02  -4.27222702e+02\n",
      "  -4.28589237e+02  -4.29956856e+02  -4.31325560e+02  -4.32695350e+02\n",
      "  -4.34066228e+02  -4.35438196e+02  -4.36811255e+02  -4.38185408e+02\n",
      "  -4.39560655e+02  -4.40936998e+02  -4.42314440e+02  -4.43692980e+02\n",
      "  -4.45072622e+02  -4.46453367e+02  -4.47835216e+02  -4.49218172e+02\n",
      "  -4.50602235e+02  -4.51987408e+02  -4.53373692e+02  -4.54761089e+02\n",
      "  -4.56149600e+02  -4.57539227e+02  -4.58929973e+02  -4.60321838e+02\n",
      "  -4.61714824e+02  -4.63108933e+02  -4.64504167e+02  -4.65900528e+02\n",
      "  -4.67298016e+02  -4.68696635e+02  -4.70096385e+02  -4.71497268e+02\n",
      "  -4.72899286e+02  -4.74302441e+02  -4.75706735e+02  -4.77112169e+02\n",
      "  -4.78518745e+02  -4.79926465e+02  -4.81335330e+02  -4.82745343e+02\n",
      "  -4.84156505e+02  -4.85568818e+02  -4.86982283e+02  -4.88396903e+02\n",
      "  -4.89812679e+02  -4.91229613e+02  -4.92647707e+02  -4.94066963e+02\n",
      "  -4.95487382e+02  -4.96908966e+02  -4.98331718e+02  -4.99755638e+02\n",
      "  -5.01180730e+02  -5.02606994e+02  -5.04034432e+02  -5.05463046e+02\n",
      "  -5.06892839e+02  -5.08323812e+02  -5.09755967e+02  -5.11189305e+02\n",
      "  -5.12623829e+02  -5.14059540e+02  -5.15496441e+02  -5.16934533e+02\n",
      "  -5.18373818e+02  -5.19814298e+02  -5.21255975e+02  -5.22698851e+02\n",
      "  -5.24142928e+02  -5.25588207e+02  -5.27034691e+02  -5.28482381e+02\n",
      "  -5.29931280e+02  -5.31381389e+02  -5.32832711e+02  -5.34285247e+02\n",
      "  -5.35738999e+02  -5.37193969e+02  -5.38650159e+02  -5.40107572e+02\n",
      "  -5.41566208e+02  -5.43026071e+02  -5.44487162e+02  -5.45949482e+02\n",
      "  -5.47413035e+02  -5.48877822e+02  -5.50343845e+02  -5.51811106e+02\n",
      "  -5.53279607e+02  -5.54749350e+02  -5.56220338e+02  -5.57692571e+02\n",
      "  -5.59166053e+02  -5.60640785e+02  -5.62116769e+02  -5.63594007e+02\n",
      "  -5.65072502e+02  -5.66552256e+02  -5.68033270e+02  -5.69515547e+02\n",
      "  -5.70999088e+02  -5.72483896e+02  -5.73969974e+02  -5.75457322e+02\n",
      "  -5.76945943e+02  -5.78435840e+02  -5.79927014e+02  -5.81419467e+02\n",
      "  -5.82913202e+02  -5.84408221e+02  -5.85904526e+02  -5.87402118e+02\n",
      "  -5.88901001e+02  -5.90401177e+02  -5.91902647e+02  -5.93405413e+02\n",
      "  -5.94909478e+02  -5.96414845e+02  -5.97921515e+02  -5.99429490e+02\n",
      "  -6.00938773e+02  -6.02449365e+02  -6.03961270e+02  -6.05474489e+02\n",
      "  -6.06989025e+02  -6.08504879e+02  -6.10022055e+02  -6.11540553e+02\n",
      "  -6.13060377e+02  -6.14581529e+02  -6.16104011e+02  -6.17627825e+02\n",
      "  -6.19152974e+02  -6.20679459e+02  -6.22207284e+02  -6.23736450e+02\n",
      "  -6.25266960e+02  -6.26798816e+02  -6.28332021e+02  -6.29866576e+02\n",
      "  -6.31402484e+02  -6.32939747e+02  -6.34478368e+02  -6.36018350e+02\n",
      "  -6.37559693e+02  -6.39102402e+02  -6.40646477e+02  -6.42191922e+02\n",
      "  -6.43738739e+02  -6.45286930e+02  -6.46836498e+02  -6.48387445e+02\n",
      "  -6.49939773e+02  -6.51493486e+02  -6.53048584e+02  -6.54605072e+02\n",
      "  -6.56162950e+02  -6.57722223e+02  -6.59282891e+02  -6.60844958e+02\n",
      "  -6.62408426e+02  -6.63973297e+02  -6.65539574e+02  -6.67107260e+02\n",
      "  -6.68676357e+02  -6.70246867e+02  -6.71818793e+02  -6.73392138e+02\n",
      "  -6.74966903e+02  -6.76543092e+02  -6.78120707e+02  -6.79699751e+02\n",
      "  -6.81280226e+02  -6.82862135e+02  -6.84445479e+02  -6.86030263e+02\n",
      "  -6.87616488e+02  -6.89204157e+02  -6.90793273e+02  -6.92383838e+02\n",
      "  -6.93975854e+02  -6.95569326e+02  -6.97164254e+02  -6.98760642e+02\n",
      "  -7.00358492e+02  -7.01957807e+02  -7.03558590e+02  -7.05160843e+02\n",
      "  -7.06764569e+02  -7.08369771e+02  -7.09976451e+02  -7.11584612e+02\n",
      "  -7.13194257e+02  -7.14805388e+02  -7.16418009e+02  -7.18032121e+02\n",
      "  -7.19647728e+02  -7.21264832e+02  -7.22883437e+02  -7.24503544e+02\n",
      "  -7.26125157e+02  -7.27748279e+02  -7.29372911e+02  -7.30999058e+02\n",
      "  -7.32626722e+02  -7.34255905e+02  -7.35886610e+02  -7.37518841e+02\n",
      "  -7.39152600e+02  -7.40787889e+02  -7.42424713e+02  -7.44063073e+02\n",
      "  -7.45702972e+02  -7.47344414e+02  -7.48987402e+02  -7.50631937e+02\n",
      "  -7.52278024e+02  -7.53925664e+02  -7.55574861e+02  -7.57225618e+02\n",
      "  -7.58877938e+02  -7.60531824e+02  -7.62187278e+02  -7.63844304e+02\n",
      "  -7.65502904e+02  -7.67163082e+02  -7.68824841e+02  -7.70488183e+02\n",
      "  -7.72153111e+02  -7.73819629e+02  -7.75487740e+02  -7.77157447e+02\n",
      "  -7.78828752e+02  -7.80501659e+02  -7.82176170e+02  -7.83852290e+02\n",
      "  -7.85530020e+02  -7.87209365e+02  -7.88890326e+02  -7.90572908e+02\n",
      "  -7.92257113e+02  -7.93942945e+02  -7.95630407e+02  -7.97319501e+02\n",
      "  -7.99010231e+02  -8.00702600e+02  -8.02396612e+02  -8.04092269e+02\n",
      "  -8.05789575e+02  -8.07488532e+02  -8.09189145e+02  -8.10891416e+02\n",
      "  -8.12595349e+02  -8.14300946e+02  -8.16008212e+02  -8.17717148e+02\n",
      "  -8.19427760e+02  -8.21140049e+02  -8.22854020e+02  -8.24569675e+02\n",
      "  -8.26287018e+02  -8.28006052e+02  -8.29726780e+02  -8.31449207e+02\n",
      "  -8.33173334e+02  -8.34899166e+02  -8.36626706e+02  -8.38355958e+02\n",
      "  -8.40086924e+02  -8.41819608e+02  -8.43554014e+02  -8.45290145e+02\n",
      "  -8.47028004e+02  -8.48767596e+02  -8.50508922e+02  -8.52251988e+02\n",
      "  -8.53996796e+02  -8.55743350e+02  -8.57491653e+02  -8.59241709e+02\n",
      "  -8.60993521e+02  -8.62747093e+02  -8.64502429e+02  -8.66259532e+02\n",
      "  -8.68018406e+02  -8.69779054e+02  -8.71541480e+02  -8.73305687e+02\n",
      "  -8.75071679e+02  -8.76839460e+02  -8.78609034e+02  -8.80380403e+02\n",
      "  -8.82153572e+02  -8.83928545e+02  -8.85705325e+02  -8.87483915e+02\n",
      "  -8.89264320e+02  -8.91046543e+02  -8.92830589e+02  -8.94616460e+02\n",
      "  -8.96404160e+02  -8.98193694e+02  -8.99985065e+02  -9.01778277e+02\n",
      "  -9.03573333e+02  -9.05370238e+02  -9.07168996e+02  -9.08969609e+02\n",
      "  -9.10772083e+02  -9.12576421e+02  -9.14382627e+02  -9.16190704e+02\n",
      "  -9.18000657e+02  -9.19812490e+02  -9.21626206e+02  -9.23441810e+02\n",
      "  -9.25259306e+02  -9.27078697e+02  -9.28899987e+02  -9.30723181e+02\n",
      "  -9.32548282e+02  -9.34375296e+02  -9.36204224e+02  -9.38035072e+02\n",
      "  -9.39867845e+02  -9.41702545e+02  -9.43539176e+02  -9.45377744e+02\n",
      "  -9.47218253e+02  -9.49060705e+02  -9.50905106e+02  -9.52751460e+02\n",
      "  -9.54599770e+02  -9.56450042e+02  -9.58302279e+02  -9.60156486e+02\n",
      "  -9.62012666e+02  -9.63870824e+02  -9.65730965e+02  -9.67593092e+02\n",
      "  -9.69457210e+02  -9.71323323e+02  -9.73191436e+02  -9.75061553e+02\n",
      "  -9.76933678e+02  -9.78807816e+02  -9.80683970e+02  -9.82562146e+02\n",
      "  -9.84442348e+02  -9.86324581e+02  -9.88208848e+02  -9.90095154e+02\n",
      "  -9.91983504e+02  -9.93873902e+02  -9.95766353e+02  -9.97660861e+02\n",
      "  -9.99557431e+02  -1.00145607e+03  -1.00335677e+03  -1.00525956e+03\n",
      "  -1.00716442e+03  -1.00907137e+03  -1.01098040e+03  -1.01289153e+03\n",
      "  -1.01480476e+03  -1.01672010e+03  -1.01863754e+03  -1.02055709e+03\n",
      "  -1.02247877e+03  -1.02440256e+03  -1.02632848e+03  -1.02825653e+03\n",
      "  -1.03018672e+03  -1.03211905e+03  -1.03405353e+03  -1.03599016e+03\n",
      "  -1.03792895e+03  -1.03986989e+03  -1.04181300e+03  -1.04375829e+03\n",
      "  -1.04570575e+03  -1.04765539e+03  -1.04960721e+03  -1.05156123e+03\n",
      "  -1.05351744e+03  -1.05547585e+03  -1.05743647e+03  -1.05939930e+03\n",
      "  -1.06136434e+03  -1.06333161e+03  -1.06530110e+03  -1.06727283e+03\n",
      "  -1.06924679e+03  -1.07122299e+03  -1.07320144e+03  -1.07518214e+03\n",
      "  -1.07716510e+03  -1.07915032e+03  -1.08113781e+03  -1.08312757e+03\n",
      "  -1.08511961e+03  -1.08711394e+03  -1.08911055e+03  -1.09110946e+03\n",
      "  -1.09311067e+03  -1.09511419e+03  -1.09712001e+03  -1.09912815e+03\n",
      "  -1.10113862e+03  -1.10315141e+03  -1.10516653e+03  -1.10718399e+03\n",
      "  -1.10920380e+03  -1.11122595e+03  -1.11325046e+03  -1.11527733e+03\n",
      "  -1.11730657e+03  -1.11933818e+03  -1.12137217e+03  -1.12340854e+03\n",
      "  -1.12544729e+03  -1.12748845e+03  -1.12953200e+03  -1.13157796e+03\n",
      "  -1.13362634e+03  -1.13567713e+03  -1.13773034e+03  -1.13978599e+03\n",
      "  -1.14184407e+03  -1.14390459e+03  -1.14596756e+03  -1.14803298e+03\n",
      "  -1.15010087e+03  -1.15217121e+03  -1.15424403e+03  -1.15631933e+03\n",
      "  -1.15839711e+03  -1.16047738e+03  -1.16256015e+03  -1.16464542e+03\n",
      "  -1.16673319e+03  -1.16882348e+03  -1.17091630e+03  -1.17301164e+03\n",
      "  -1.17510951e+03  -1.17720992e+03  -1.17931288e+03  -1.18141839e+03\n",
      "  -1.18352645e+03  -1.18563709e+03  -1.18775029e+03  -1.18986607e+03\n",
      "  -1.19198444e+03  -1.19410540e+03  -1.19622895e+03  -1.19835511e+03\n",
      "  -1.20048388e+03  -1.20261527e+03  -1.20474927e+03  -1.20688591e+03\n",
      "  -1.20902519e+03  -1.21116711e+03  -1.21331168e+03  -1.21545891e+03\n",
      "  -1.21760880e+03  -1.21976136e+03  -1.22191660e+03  -1.22407453e+03\n",
      "  -1.22623515e+03  -1.22839846e+03  -1.23056448e+03  -1.23273321e+03\n",
      "  -1.23490466e+03  -1.23707884e+03  -1.23925575e+03  -1.24143540e+03\n",
      "  -1.24361780e+03  -1.24580295e+03  -1.24799087e+03  -1.25018155e+03\n",
      "  -1.25237501e+03  -1.25457126e+03  -1.25677029e+03  -1.25897213e+03\n",
      "  -1.26117677e+03  -1.26338422e+03  -1.26559449e+03  -1.26780759e+03\n",
      "  -1.27002353e+03  -1.27224231e+03  -1.27446393e+03  -1.27668842e+03\n",
      "  -1.27891577e+03  -1.28114600e+03  -1.28337910e+03  -1.28561510e+03\n",
      "  -1.28785399e+03  -1.29009579e+03  -1.29234049e+03  -1.29458812e+03\n",
      "  -1.29683867e+03  -1.29909216e+03  -1.30134860e+03  -1.30360798e+03\n",
      "  -1.30587033e+03  -1.30813564e+03  -1.31040392e+03  -1.31267519e+03\n",
      "  -1.31494946e+03  -1.31722672e+03  -1.31950699e+03  -1.32179027e+03\n",
      "  -1.32407658e+03  -1.32636593e+03  -1.32865831e+03  -1.33095375e+03\n",
      "  -1.33325224e+03  -1.33555380e+03  -1.33785843e+03  -1.34016615e+03\n",
      "  -1.34247696e+03  -1.34479087e+03  -1.34710789e+03  -1.34942802e+03\n",
      "  -1.35175129e+03  -1.35407769e+03  -1.35640723e+03  -1.35873993e+03\n",
      "  -1.36107578e+03  -1.36341481e+03  -1.36575702e+03  -1.36810242e+03\n",
      "  -1.37045102e+03  -1.37280282e+03  -1.37515784e+03  -1.37751608e+03\n",
      "  -1.37987756e+03  -1.38224228e+03  -1.38461026e+03  -1.38698149e+03\n",
      "  -1.38935600e+03  -1.39173379e+03  -1.39411487e+03  -1.39649925e+03\n",
      "  -1.39888694e+03  -1.40127794e+03  -1.40367228e+03  -1.40606995e+03\n",
      "  -1.40847097e+03  -1.41087535e+03  -1.41328310e+03  -1.41569422e+03\n",
      "  -1.41810874e+03  -1.42052664e+03  -1.42294796e+03  -1.42537269e+03\n",
      "  -1.42780085e+03  -1.43023245e+03  -1.43266749e+03  -1.43510599e+03\n",
      "  -1.43754796e+03  -1.43999341e+03  -1.44244234e+03  -1.44489478e+03\n",
      "  -1.44735072e+03  -1.44981018e+03  -1.45227317e+03  -1.45473971e+03\n",
      "  -1.45720979e+03  -1.45968344e+03  -1.46216066e+03  -1.46464147e+03\n",
      "  -1.46712587e+03  -1.46961387e+03  -1.47210549e+03  -1.47460074e+03\n",
      "  -1.47709962e+03  -1.47960216e+03  -1.48210836e+03  -1.48461822e+03\n",
      "  -1.48713178e+03  -1.48964902e+03  -1.49216997e+03  -1.49469464e+03\n",
      "  -1.49722304e+03  -1.49975518e+03  -1.50229107e+03  -1.50483072e+03\n",
      "  -1.50737415e+03  -1.50992136e+03  -1.51247237e+03  -1.51502720e+03\n",
      "  -1.51758585e+03  -1.52014833e+03  -1.52271466e+03  -1.52528484e+03\n",
      "  -1.52785890e+03  -1.53043684e+03  -1.53301868e+03  -1.53560442e+03\n",
      "  -1.53819408e+03  -1.54078768e+03  -1.54338522e+03  -1.54598672e+03\n",
      "  -1.54859219e+03  -1.55120165e+03  -1.55381510e+03  -1.55643255e+03\n",
      "  -1.55905403e+03  -1.56167955e+03  -1.56430911e+03  -1.56694273e+03\n",
      "  -1.56958043e+03  -1.57222222e+03  -1.57486810e+03  -1.57751810e+03\n",
      "  -1.58017223e+03  -1.58283050e+03  -1.58549292e+03  -1.58815951e+03\n",
      "  -1.59083029e+03  -1.59350526e+03  -1.59618444e+03  -1.59886784e+03\n",
      "  -1.60155548e+03  -1.60424738e+03  -1.60694354e+03  -1.60964398e+03\n",
      "  -1.61234871e+03  -1.61505776e+03  -1.61777113e+03  -1.62048883e+03\n",
      "  -1.62321089e+03  -1.62593732e+03  -1.62866813e+03  -1.63140334e+03\n",
      "  -1.63414297e+03  -1.63688702e+03  -1.63963552e+03  -1.64238847e+03\n",
      "  -1.64514591e+03  -1.64790785e+03  -1.65067432e+03]\n"
     ]
    }
   ],
   "source": [
    "print(log_post_probs)"
   ]
  },
  {
   "cell_type": "code",
   "execution_count": 15,
   "metadata": {},
   "outputs": [
    {
     "name": "stdout",
     "output_type": "stream",
     "text": [
      "0.348420122517\n"
     ]
    }
   ],
   "source": [
    "print(np.exp(log_post_probs[0]))"
   ]
  },
  {
   "cell_type": "code",
   "execution_count": 16,
   "metadata": {},
   "outputs": [
    {
     "data": {
      "image/png": "[encoded data removed]",
      "text/plain": [
       "<Figure size 432x288 with 1 Axes>"
      ]
     },
     "metadata": {
      "needs_background": "light"
     },
     "output_type": "display_data"
    }
   ],
   "source": [
    "plt.plot(estimate.trange, np.exp(log_post_probs))\n",
    "plt.show()"
   ]
  },
  {
   "cell_type": "code",
   "execution_count": 17,
   "metadata": {},
   "outputs": [
    {
     "data": {
      "image/png": "[encoded data removed]",
      "text/plain": [
       "<Figure size 432x288 with 1 Axes>"
      ]
     },
     "metadata": {
      "needs_background": "light"
     },
     "output_type": "display_data"
    }
   ],
   "source": [
    "plt.plot(estimate.trange[0:10], np.exp(log_post_probs[0:10]))\n",
    "plt.show()"
   ]
  }
 ],
 "metadata": {
  "kernelspec": {
   "display_name": "Python 2",
   "language": "python",
   "name": "python2"
  },
  "language_info": {
   "codemirror_mode": {
    "name": "ipython",
    "version": 2
   },
   "file_extension": ".py",
   "mimetype": "text/x-python",
   "name": "python",
   "nbconvert_exporter": "python",
   "pygments_lexer": "ipython2",
   "version": "2.7.13"
  }
 },
 "nbformat": 4,
 "nbformat_minor": 2
}
