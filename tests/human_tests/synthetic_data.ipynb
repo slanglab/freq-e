{
 "cells": [
  {
   "cell_type": "markdown",
   "metadata": {},
   "source": [
    "# Synthetic data for human software testers "
   ]
  },
  {
   "cell_type": "code",
   "execution_count": 4,
   "metadata": {},
   "outputs": [],
   "source": [
    "import numpy as np"
   ]
  },
  {
   "cell_type": "code",
   "execution_count": 5,
   "metadata": {},
   "outputs": [],
   "source": [
    "#load synthetic data \n",
    "N_train = 1000\n",
    "N_feat = 2000\n",
    "N_test = 200 \n",
    "X_train = np.random.randint(0, high=6, size=(N_train, N_feat))\n",
    "y_train = np.random.randint(0, high=2, size=(N_train,))\n",
    "X_test = np.random.randint(0, high=6, size=(N_test, N_feat))"
   ]
  },
  {
   "cell_type": "code",
   "execution_count": 6,
   "metadata": {},
   "outputs": [
    {
     "name": "stdout",
     "output_type": "stream",
     "text": [
      "0.477\n"
     ]
    }
   ],
   "source": [
    "print(np.mean(y_train))"
   ]
  },
  {
   "cell_type": "markdown",
   "metadata": {},
   "source": [
    "# What is the prevalence (proportion of positive labels) of the test group? \n",
    "Use freq-e software and tutorial to figure this out"
   ]
  },
  {
   "cell_type": "code",
   "execution_count": null,
   "metadata": {},
   "outputs": [],
   "source": [
    "###### YOUR CODE HERE ##########\n",
    "\n",
    "\n",
    "\n",
    "\n",
    "############################"
   ]
  }
 ],
 "metadata": {
  "kernelspec": {
   "display_name": "Python 3",
   "language": "python",
   "name": "python3"
  },
  "language_info": {
   "codemirror_mode": {
    "name": "ipython",
    "version": 3
   },
   "file_extension": ".py",
   "mimetype": "text/x-python",
   "name": "python",
   "nbconvert_exporter": "python",
   "pygments_lexer": "ipython3",
   "version": "3.7.1"
  }
 },
 "nbformat": 4,
 "nbformat_minor": 2
}
